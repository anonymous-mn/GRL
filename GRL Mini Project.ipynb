{
  "nbformat": 4,
  "nbformat_minor": 0,
  "metadata": {
    "colab": {
      "provenance": []
    },
    "kernelspec": {
      "name": "python3",
      "display_name": "Python 3"
    },
    "language_info": {
      "name": "python"
    }
  },
  "cells": [
    {
      "cell_type": "code",
      "source": [
        "# Install required packages.\n",
        "import os\n",
        "import torch\n",
        "os.environ['TORCH'] = torch.__version__\n",
        "print(torch.__version__)\n",
        "\n",
        "!pip install -q torch-scatter -f https://data.pyg.org/whl/torch-${TORCH}.html\n",
        "!pip install -q torch-sparse -f https://data.pyg.org/whl/torch-${TORCH}.html\n",
        "!pip install -q git+https://github.com/pyg-team/pytorch_geometric.git"
      ],
      "metadata": {
        "colab": {
          "base_uri": "https://localhost:8080/"
        },
        "id": "m3Bc5nM9P6Kp",
        "outputId": "abb39395-c01d-47bc-b2cb-67d608eee8cf"
      },
      "execution_count": 1,
      "outputs": [
        {
          "output_type": "stream",
          "name": "stdout",
          "text": [
            "2.1.0+cu121\n",
            "\u001b[2K     \u001b[90m━━━━━━━━━━━━━━━━━━━━━━━━━━━━━━━━━━━━━━━━\u001b[0m \u001b[32m10.8/10.8 MB\u001b[0m \u001b[31m58.7 MB/s\u001b[0m eta \u001b[36m0:00:00\u001b[0m\n",
            "\u001b[2K     \u001b[90m━━━━━━━━━━━━━━━━━━━━━━━━━━━━━━━━━━━━━━━━\u001b[0m \u001b[32m5.0/5.0 MB\u001b[0m \u001b[31m28.0 MB/s\u001b[0m eta \u001b[36m0:00:00\u001b[0m\n",
            "\u001b[?25h  Installing build dependencies ... \u001b[?25l\u001b[?25hdone\n",
            "  Getting requirements to build wheel ... \u001b[?25l\u001b[?25hdone\n",
            "  Preparing metadata (pyproject.toml) ... \u001b[?25l\u001b[?25hdone\n",
            "  Building wheel for torch_geometric (pyproject.toml) ... \u001b[?25l\u001b[?25hdone\n"
          ]
        }
      ]
    },
    {
      "cell_type": "code",
      "execution_count": 2,
      "metadata": {
        "colab": {
          "base_uri": "https://localhost:8080/"
        },
        "id": "xfmNCUmBMV6Q",
        "outputId": "18fd57a5-4b03-46ed-d265-2de8de88aa9f"
      },
      "outputs": [
        {
          "output_type": "stream",
          "name": "stderr",
          "text": [
            "Downloading https://www.chrsmrrs.com/graphkerneldatasets/NCI1.zip\n",
            "Processing...\n"
          ]
        },
        {
          "output_type": "stream",
          "name": "stdout",
          "text": [
            "\n",
            "Dataset: NCI1(4110):\n",
            "====================\n",
            "Number of graphs: 4110\n",
            "Number of features: 37\n",
            "Number of classes: 2\n",
            "\n",
            "Data(edge_index=[2, 42], x=[21, 37], y=[1])\n",
            "=============================================================\n",
            "Number of nodes: 21\n",
            "Number of edges: 42\n",
            "Average node degree: 2.00\n",
            "Has isolated nodes: False\n",
            "Has self-loops: False\n",
            "Is undirected: True\n"
          ]
        },
        {
          "output_type": "stream",
          "name": "stderr",
          "text": [
            "Done!\n"
          ]
        }
      ],
      "source": [
        "import torch\n",
        "from torch_geometric.datasets import TUDataset\n",
        "\n",
        "dataset = TUDataset(root='data/TUDataset', name='NCI1')\n",
        "# dataset = TUDataset(root='data/TUDataset', name='ENZYMES')\n",
        "# dataset = TUDataset(root='data/TUDataset', name='QM9')\n",
        "\n",
        "print()\n",
        "print(f'Dataset: {dataset}:')\n",
        "print('====================')\n",
        "print(f'Number of graphs: {len(dataset)}')\n",
        "print(f'Number of features: {dataset.num_features}')\n",
        "print(f'Number of classes: {dataset.num_classes}')\n",
        "\n",
        "data = dataset[0]  # Get the first graph object.\n",
        "\n",
        "print()\n",
        "print(data)\n",
        "print('=============================================================')\n",
        "\n",
        "# Gather some statistics about the first graph.\n",
        "print(f'Number of nodes: {data.num_nodes}')\n",
        "print(f'Number of edges: {data.num_edges}')\n",
        "print(f'Average node degree: {data.num_edges / data.num_nodes:.2f}')\n",
        "print(f'Has isolated nodes: {data.has_isolated_nodes()}')\n",
        "print(f'Has self-loops: {data.has_self_loops()}')\n",
        "print(f'Is undirected: {data.is_undirected()}')"
      ]
    },
    {
      "cell_type": "code",
      "source": [
        "import networkx as nx\n",
        "import torch_geometric\n",
        "\n",
        "max_degrees = []\n",
        "\n",
        "for data in dataset:\n",
        "    graph = torch_geometric.utils.to_networkx(data, to_undirected=True)\n",
        "    degrees = list(graph.degree())\n",
        "    #print(degrees)\n",
        "    max_degree_node, max_degree = max(degrees, key=lambda x: x[1])\n",
        "    max_degrees.append(max_degree)\n",
        "\n",
        "print(max(max_degrees))"
      ],
      "metadata": {
        "colab": {
          "base_uri": "https://localhost:8080/"
        },
        "id": "yxhx8Ffq4a3U",
        "outputId": "7df0f4c4-fa61-4b9e-987c-2ded8584b549"
      },
      "execution_count": 3,
      "outputs": [
        {
          "output_type": "stream",
          "name": "stdout",
          "text": [
            "4\n"
          ]
        }
      ]
    },
    {
      "cell_type": "code",
      "source": [
        "import networkx as nx\n",
        "import torch_geometric\n",
        "from collections import deque\n",
        "import collections\n",
        "import matplotlib.pyplot as plt\n",
        "\n",
        "#edge_index = torch.tensor([[0, 1, 1, 2],\n",
        "#                           [1, 0, 2, 1]], dtype=torch.long)\n",
        "#x = torch.tensor([[-1], [0], [1]], dtype=torch.float)\n",
        "edge_index = dataset[0].edge_index\n",
        "x = dataset[0].x\n",
        "# 8 nodes with crossover:\n",
        "#edge_index = torch.tensor([[0, 1, 0, 2, 1, 3, 2, 4, 2, 5, 3, 4, 3, 5, 4, 6, 5, 7, 6, 7],\n",
        "#                           [1, 0, 2, 0, 3, 1, 4, 2, 5, 2, 4, 3, 5, 3, 6, 4, 7, 5, 7, 6]], dtype=torch.long)\n",
        "# 8 nodes without crossover:\n",
        "#edge_index = torch.tensor([[0, 1, 0, 2, 1, 3, 2, 3, 2, 4, 6, 4, 3, 5, 4, 5, 5, 7, 6, 7],\n",
        "#                           [1, 0, 2, 0, 3, 1, 3, 2, 4, 2, 4, 6, 5, 3, 5, 4, 7, 5, 7, 6]], dtype=torch.long)\n",
        "#x = torch.tensor([[0] for _ in edge_index[0]], dtype=torch.float)\n",
        "\n",
        "data = torch_geometric.data.Data(x=x, edge_index=edge_index)\n",
        "test_graph = torch_geometric.utils.to_networkx(data, to_undirected=True)\n",
        "\n",
        "\n",
        "'''Assumes that the degree of start_node is less than or equal to 2.'''\n",
        "def create_branch(graph, start_node):\n",
        "    new_branch = set()\n",
        "    nodes_stack = deque()\n",
        "    nodes_stack.append(start_node)\n",
        "    while len(nodes_stack) > 0:\n",
        "        current_node = nodes_stack.pop()\n",
        "        new_branch.add(current_node)\n",
        "        if graph.degree(current_node) <= 2:\n",
        "            for neigh in graph.neighbors(current_node):\n",
        "                if (not neigh in new_branch) and (not neigh in nodes_stack):\n",
        "                    nodes_stack.append(neigh)\n",
        "    return new_branch\n",
        "\n",
        "def compute_components(graph):\n",
        "    components = []\n",
        "    #print(\"comp comps\")\n",
        "    #k_components_dict = nx.k_components(graph)\n",
        "    k_components = nx.biconnected_components(graph)\n",
        "    #print(k_components)\n",
        "    #print(\"comp'ed comps\")\n",
        "    node_to_components = {node: {\"k\": [], \"branch\": []} for node in list(graph.nodes)}\n",
        "    left_over_nodes = set(graph.copy().nodes)\n",
        "    #print(left_over_nodes)\n",
        "    #print(k_components_dict)\n",
        "\n",
        "    graph_creator = ComponentGraphCreator(graph)\n",
        "    #for k, k_components in k_components_dict.items():\n",
        "        #if k < 3 and 1 < k:\n",
        "    for k_component in k_components:\n",
        "        if len(k_component) < 3:\n",
        "            continue\n",
        "        components.append(k_component)\n",
        "        graph_creator.add_component(k_component)\n",
        "        for node in k_component:\n",
        "            node_to_components[node][\"k\"].append(k_component)\n",
        "            #print(\"2-comp nodes: \" + str(node))\n",
        "        left_over_nodes = left_over_nodes - k_component\n",
        "\n",
        "    #print(left_over_nodes)\n",
        "    for node in left_over_nodes:\n",
        "        #print(\"left over nodes: \" + str(node))\n",
        "        if graph.degree(node) <= 2:\n",
        "            if len(node_to_components[node][\"branch\"]) == 0:\n",
        "                #print(node)\n",
        "                branch = create_branch(graph, node)\n",
        "                components.append(branch)\n",
        "                graph_creator.add_component(branch)\n",
        "                #print(branch)\n",
        "                for branch_node in branch:\n",
        "                    node_to_components[branch_node][\"branch\"].append(branch)\n",
        "\n",
        "    graph_creator.add_edges()\n",
        "\n",
        "    return components, node_to_components, graph_creator\n",
        "\n",
        "nx.draw(test_graph, with_labels=True)\n",
        "plt.show()\n",
        "#print(nx.k_components(test_graph))\n",
        "#for cmp in components:\n",
        "#    g = test_graph.subgraph(cmp)\n",
        "#    nx.draw(g, with_labels=True)\n",
        "#    plt.show()\n",
        "\n",
        "components, node_to_components, graph_creator = compute_components(test_graph)\n",
        "component_graph = graph_creator.graph\n",
        "nx.draw(component_graph, with_labels=True)\n",
        "cmp_graph, cmp_node_to_cgc_nodes, cmp_cgc_node_to_component = graph_creator.get_graph_and_dicts()\n",
        "print(components)\n",
        "plt.show(cmp_graph)\n",
        "print(cmp_cgc_node_to_component)\n",
        "#print(cut_nodes)\n",
        "#cycles = list(nx.simple_cycles(graph))\n",
        "#print(\"Cycles:\", cycles)\n",
        "\n"
      ],
      "metadata": {
        "colab": {
          "base_uri": "https://localhost:8080/",
          "height": 1000
        },
        "id": "GP1_tLVDd8Yp",
        "outputId": "99884c2c-db39-4041-8d3a-91641f6c49c4"
      },
      "execution_count": 8,
      "outputs": [
        {
          "output_type": "display_data",
          "data": {
            "text/plain": [
              "<Figure size 640x480 with 1 Axes>"
            ],
            "image/png": "[encoded data removed]"
          },
          "metadata": {}
        },
        {
          "output_type": "stream",
          "name": "stdout",
          "text": [
            "[{10, 11, 12, 13, 14, 15}, {0, 7}, {1, 7}, {9, 2}, {9, 3}, {19, 4}, {16, 10, 5, 6}, {8, 17, 19, 16}, {16, 18}, {19, 20}]\n"
          ]
        },
        {
          "output_type": "display_data",
          "data": {
            "text/plain": [
              "<Figure size 640x480 with 1 Axes>"
            ],
            "image/png": "[encoded data removed]"
          },
          "metadata": {}
        },
        {
          "output_type": "stream",
          "name": "stdout",
          "text": [
            "{0: {10, 11, 12, 13, 14, 15}, 1: {0, 1, 11, 7}, 2: {9, 2, 3, 14}, 3: {17, 19, 4, 20}, 4: {16, 10, 5, 6}, 5: {8, 17, 19, 16}, 6: {16, 18}}\n"
          ]
        }
      ]
    },
    {
      "cell_type": "code",
      "source": [
        "from collections import Counter\n",
        "\n",
        "ds = []\n",
        "for data in dataset:\n",
        "    edge_index = data.edge_index\n",
        "    x = data.x\n",
        "    data = torch_geometric.data.Data(x=x, edge_index=edge_index)\n",
        "    test_graph = torch_geometric.utils.to_networkx(data, to_undirected=True)\n",
        "    components, node_to_components, graph_creator = compute_components(test_graph)\n",
        "    component_graph = graph_creator.graph\n",
        "    if nx.is_connected(component_graph):\n",
        "        ds.append(nx.diameter(component_graph))\n",
        "print(max(ds))\n",
        "print(len(ds))\n",
        "print(sum(ds)/len(ds))\n",
        "print(ds)\n",
        "print(Counter(ds))"
      ],
      "metadata": {
        "colab": {
          "base_uri": "https://localhost:8080/"
        },
        "id": "-14lVMHYeZws",
        "outputId": "be472603-b30d-4b98-e2f3-b7a08b76e75d"
      },
      "execution_count": 9,
      "outputs": [
        {
          "output_type": "stream",
          "name": "stdout",
          "text": [
            "14\n",
            "1393\n",
            "3.137832017229002\n",
            "[4, 4, 4, 4, 5, 3, 2, 3, 3, 2, 2, 2, 4, 3, 4, 4, 5, 2, 3, 3, 5, 3, 4, 2, 4, 4, 3, 3, 2, 5, 2, 4, 3, 2, 4, 4, 4, 3, 2, 5, 2, 2, 3, 6, 3, 3, 4, 4, 2, 3, 4, 2, 3, 3, 2, 2, 3, 3, 3, 5, 2, 1, 4, 2, 4, 2, 2, 3, 2, 0, 5, 0, 4, 2, 4, 5, 2, 4, 1, 5, 5, 4, 2, 3, 2, 5, 4, 1, 2, 5, 3, 2, 2, 2, 4, 3, 4, 3, 3, 4, 1, 2, 5, 6, 4, 4, 4, 4, 3, 4, 4, 2, 3, 4, 5, 2, 4, 3, 0, 5, 2, 4, 2, 2, 2, 3, 2, 2, 2, 2, 3, 5, 2, 6, 3, 2, 2, 2, 2, 3, 2, 4, 3, 3, 2, 2, 2, 4, 2, 4, 2, 2, 5, 3, 2, 2, 5, 3, 4, 3, 6, 2, 2, 4, 4, 4, 3, 3, 4, 4, 2, 3, 4, 4, 7, 3, 4, 3, 3, 2, 2, 4, 4, 2, 2, 4, 2, 2, 2, 2, 1, 3, 3, 3, 3, 4, 2, 3, 4, 3, 3, 3, 5, 4, 4, 2, 4, 3, 4, 4, 5, 3, 3, 3, 4, 3, 3, 3, 3, 4, 3, 0, 2, 4, 4, 4, 2, 2, 2, 1, 2, 6, 6, 4, 2, 3, 2, 5, 4, 4, 4, 4, 2, 2, 4, 5, 2, 2, 4, 2, 5, 3, 3, 3, 2, 4, 2, 4, 2, 3, 2, 0, 2, 3, 2, 2, 6, 2, 4, 2, 2, 2, 2, 4, 2, 3, 2, 3, 4, 1, 3, 5, 3, 2, 2, 2, 2, 2, 4, 6, 4, 3, 2, 2, 5, 2, 2, 1, 3, 2, 2, 3, 2, 2, 3, 2, 6, 4, 3, 4, 4, 2, 5, 3, 2, 4, 5, 2, 2, 4, 2, 4, 8, 3, 2, 5, 5, 6, 2, 2, 2, 3, 2, 6, 3, 2, 4, 2, 6, 2, 4, 2, 5, 0, 2, 2, 2, 3, 2, 4, 6, 2, 2, 2, 2, 3, 2, 4, 2, 1, 3, 3, 2, 2, 3, 2, 2, 3, 2, 2, 2, 4, 4, 4, 4, 4, 2, 2, 2, 2, 2, 3, 2, 2, 2, 3, 4, 6, 2, 2, 4, 3, 3, 5, 2, 4, 2, 4, 2, 3, 6, 4, 5, 5, 1, 4, 2, 4, 3, 3, 7, 5, 3, 2, 5, 4, 3, 3, 3, 2, 1, 4, 2, 4, 0, 4, 5, 2, 2, 2, 2, 2, 2, 1, 1, 4, 2, 1, 2, 6, 3, 2, 2, 3, 2, 2, 2, 4, 2, 2, 6, 2, 2, 3, 2, 2, 2, 4, 1, 3, 2, 3, 2, 3, 3, 2, 3, 4, 1, 2, 2, 2, 3, 3, 2, 2, 2, 2, 2, 5, 2, 4, 2, 4, 2, 4, 3, 1, 2, 2, 2, 2, 2, 4, 4, 4, 2, 2, 4, 2, 2, 3, 2, 3, 4, 3, 4, 2, 3, 2, 2, 2, 3, 2, 2, 3, 2, 2, 3, 2, 3, 2, 0, 2, 2, 2, 3, 4, 2, 2, 5, 3, 4, 3, 3, 0, 2, 3, 3, 2, 3, 2, 2, 3, 1, 3, 3, 4, 3, 5, 2, 3, 3, 3, 4, 3, 4, 2, 2, 6, 3, 3, 2, 2, 4, 2, 2, 2, 2, 2, 5, 1, 1, 2, 4, 3, 5, 2, 2, 2, 2, 2, 4, 2, 2, 3, 2, 2, 2, 2, 2, 4, 3, 2, 2, 6, 2, 3, 3, 4, 2, 1, 2, 2, 2, 2, 3, 3, 2, 1, 2, 2, 1, 2, 2, 2, 1, 0, 2, 4, 5, 4, 4, 4, 4, 4, 4, 2, 7, 7, 4, 4, 6, 3, 2, 2, 6, 3, 2, 2, 2, 5, 3, 2, 2, 4, 6, 4, 3, 4, 4, 2, 3, 2, 5, 2, 2, 2, 3, 2, 4, 2, 5, 3, 2, 4, 5, 4, 3, 5, 4, 2, 2, 2, 4, 5, 3, 6, 4, 3, 2, 3, 2, 3, 4, 3, 4, 4, 6, 4, 4, 4, 2, 2, 4, 2, 2, 3, 4, 6, 3, 0, 3, 3, 3, 2, 2, 4, 6, 1, 3, 3, 3, 2, 3, 2, 4, 3, 6, 2, 2, 3, 7, 8, 4, 3, 2, 7, 7, 7, 7, 4, 4, 4, 4, 4, 3, 3, 4, 2, 6, 4, 7, 4, 1, 2, 2, 5, 3, 3, 2, 4, 4, 4, 4, 4, 4, 2, 2, 4, 4, 2, 2, 4, 2, 2, 4, 3, 4, 4, 2, 4, 3, 2, 4, 4, 4, 2, 2, 3, 1, 8, 3, 2, 4, 4, 2, 1, 2, 2, 2, 4, 4, 2, 2, 2, 2, 2, 2, 1, 2, 2, 2, 3, 2, 2, 3, 3, 3, 3, 6, 2, 4, 4, 4, 4, 0, 4, 3, 3, 3, 3, 2, 3, 7, 5, 5, 5, 3, 4, 3, 4, 4, 5, 3, 5, 2, 2, 3, 3, 3, 2, 3, 2, 3, 4, 2, 3, 2, 2, 3, 2, 2, 5, 3, 2, 3, 4, 4, 4, 6, 1, 4, 2, 2, 4, 4, 4, 2, 3, 2, 3, 2, 3, 3, 2, 5, 2, 2, 2, 2, 2, 2, 2, 4, 3, 3, 3, 3, 3, 3, 3, 2, 2, 3, 2, 2, 2, 3, 2, 2, 2, 6, 2, 4, 4, 2, 2, 2, 3, 3, 4, 4, 4, 4, 4, 4, 4, 4, 2, 5, 2, 5, 5, 5, 5, 5, 5, 3, 3, 4, 4, 4, 2, 5, 4, 2, 2, 3, 3, 3, 3, 2, 2, 14, 4, 4, 2, 2, 2, 3, 4, 4, 6, 4, 3, 3, 2, 2, 4, 3, 4, 2, 4, 4, 6, 4, 4, 2, 2, 2, 2, 2, 3, 4, 3, 2, 3, 3, 3, 6, 3, 3, 6, 3, 3, 3, 2, 3, 3, 4, 4, 5, 2, 2, 4, 4, 2, 2, 2, 3, 4, 3, 2, 3, 6, 2, 3, 2, 3, 2, 3, 2, 2, 2, 2, 2, 2, 5, 5, 3, 2, 2, 2, 2, 2, 2, 2, 3, 3, 4, 3, 4, 2, 8, 4, 3, 2, 2, 1, 3, 2, 4, 4, 4, 3, 2, 3, 2, 2, 3, 2, 3, 2, 2, 2, 4, 2, 4, 2, 3, 2, 4, 2, 2, 2, 3, 3, 4, 2, 3, 3, 3, 2, 2, 2, 2, 2, 2, 4, 3, 3, 3, 4, 2, 2, 2, 2, 2, 4, 2, 0, 2, 2, 2, 3, 3, 3, 2, 2, 3, 2, 3, 1, 2, 3, 4, 2, 2, 3, 4, 1, 1, 1, 1, 4, 2, 2, 3, 2, 3, 2, 3, 4, 2, 2, 4, 2, 2, 2, 4, 0, 4, 2, 2, 5, 4, 2, 6, 6, 6, 3, 4, 8, 3, 2, 4, 5, 4, 5, 5, 3, 2, 1, 2, 3, 2, 3, 3, 4, 6, 4, 2, 6, 2, 2, 1, 1, 2, 3, 6, 3, 6, 1, 4, 3, 5, 8, 3, 3, 3, 4, 11, 4, 2, 4, 3, 6, 3, 2, 8, 4, 4, 3, 3, 4, 4, 3, 2, 6, 2, 3, 7, 4, 0, 3, 3, 3, 4, 4, 2, 4, 3, 4, 4, 4, 3, 6, 2, 5, 3, 2, 5, 4, 4, 5, 3, 3, 7, 4, 6, 4, 4, 5, 4, 4, 4, 4, 4, 4, 2, 1, 2, 4, 6, 5, 4, 4, 3, 3, 2, 4, 4, 3, 2, 3, 6, 4, 1, 3, 4, 4, 2, 4, 4, 2, 4, 2, 2, 5, 4, 2, 2, 2, 4, 4, 4, 4, 4, 4, 3, 5, 3, 2, 3, 2, 3, 3, 3, 5, 3, 4, 4, 5, 4, 3, 4, 3, 4, 5, 2, 4, 2, 4, 4, 2, 2, 2, 3, 4, 3, 6, 13, 3, 3, 3, 2, 2, 3, 3, 3, 3, 2, 2, 2, 2, 3, 4, 4, 4, 5, 4, 3, 4, 4, 2, 6, 6, 5, 4, 4, 4, 3, 3, 4, 4, 4, 4, 5, 2, 6, 6, 6, 4, 4, 4, 2, 2, 10, 10, 3, 3, 4, 2, 4, 4, 4, 4, 2, 2, 3, 4, 4, 4, 4, 3, 3, 2, 7, 3, 3, 2, 2, 4, 4, 4, 4, 6, 4, 7, 4, 3, 3]\n",
            "Counter({2: 497, 4: 342, 3: 329, 5: 85, 6: 56, 1: 42, 0: 15, 7: 15, 8: 7, 10: 2, 14: 1, 11: 1, 13: 1})\n"
          ]
        }
      ]
    },
    {
      "cell_type": "code",
      "source": [
        "class ComponentGraphCreator():\n",
        "    def __init__(self, org_graph):\n",
        "        self.org_graph = org_graph\n",
        "        self.graph = nx.Graph()\n",
        "        self.current_node_index = 0\n",
        "        self.node_to_cgc_nodes = {}\n",
        "        self.cgc_node_to_component = {}\n",
        "        self.potential_forks = []\n",
        "\n",
        "    '''Assumes that len(component) <= 2.'''\n",
        "    def add_fork_component(self, component):\n",
        "        cgc_node = None\n",
        "        for node in component:\n",
        "            if node in self.node_to_cgc_nodes and \"fork node\" in self.node_to_cgc_nodes[node]:\n",
        "                cgc_node = self.node_to_cgc_nodes[node][\"fork node\"]\n",
        "                break\n",
        "        else:\n",
        "            cgc_node = self.current_node_index\n",
        "            self.potential_forks.append(cgc_node)\n",
        "            self.cgc_node_to_component[cgc_node] = set()\n",
        "            self.graph.add_node(cgc_node)\n",
        "            self.current_node_index += 1\n",
        "        for node in component:\n",
        "            if not node in self.node_to_cgc_nodes:\n",
        "                self.node_to_cgc_nodes[node] = {}\n",
        "                self.node_to_cgc_nodes[node][\"component nodes\"] = []\n",
        "            self.node_to_cgc_nodes[node][\"fork node\"] = cgc_node\n",
        "            self.node_to_cgc_nodes[node][\"component nodes\"].append(cgc_node)\n",
        "            self.cgc_node_to_component[cgc_node].add(node)\n",
        "\n",
        "    def add_component(self, component):\n",
        "        # a component with length <= 2 is necessarily a branch.\n",
        "        # below, we make sure that all compinents of lenght <= 2\n",
        "        # that share cut points are combined, into what we call a fork.\n",
        "        if len(component) <= 2:\n",
        "            self.add_fork_component(component)\n",
        "            return\n",
        "\n",
        "        self.graph.add_node(self.current_node_index)\n",
        "        self.cgc_node_to_component[self.current_node_index] = component\n",
        "        for node in component:\n",
        "            if node in self.node_to_cgc_nodes:\n",
        "                self.node_to_cgc_nodes[node][\"component nodes\"].append(self.current_node_index)\n",
        "            else:\n",
        "                self.node_to_cgc_nodes[node] = {}\n",
        "                self.node_to_cgc_nodes[node][\"component nodes\"] = [self.current_node_index]\n",
        "        self.current_node_index += 1\n",
        "\n",
        "    def complete_forks(self):\n",
        "        for potential_fork in self.potential_forks:\n",
        "            component = self.cgc_node_to_component[potential_fork]\n",
        "            size = len(component)\n",
        "            special_node = None\n",
        "            for node in component:\n",
        "                if (special_node == None) and (self.org_graph.degree(node) == size):\n",
        "                    special_node = node\n",
        "                elif self.org_graph.degree(node) != 1:\n",
        "                    special_node = None\n",
        "                    break\n",
        "            if special_node != None:\n",
        "                neigh = list(set(self.org_graph.neighbors(special_node)) - component)[0]\n",
        "                self.cgc_node_to_component[potential_fork].add(neigh)\n",
        "                if neigh not in self.node_to_cgc_nodes:\n",
        "                    self.node_to_cgc_nodes[neigh] = {}\n",
        "                    self.node_to_cgc_nodes[neigh][\"component nodes\"] = []\n",
        "                self.node_to_cgc_nodes[neigh][\"component nodes\"].append(potential_fork)\n",
        "\n",
        "\n",
        "    def add_edges(self):\n",
        "        self.complete_forks()\n",
        "\n",
        "        components = self.cgc_node_to_component.values()\n",
        "        counter = collections.Counter(node for component in components for node in component)\n",
        "        cut_nodes = [node for (node, count) in counter.most_common() if count > 1]\n",
        "\n",
        "        for cut_node in cut_nodes:\n",
        "            cgc_nodes = self.node_to_cgc_nodes[cut_node][\"component nodes\"]\n",
        "            if len(cgc_nodes) < 2:\n",
        "                continue\n",
        "            cgc_node_pairs = [(n1, n2) for n1 in cgc_nodes for n2 in cgc_nodes if n1 != n2]\n",
        "            #print(cgc_node_pairs)\n",
        "            self.graph.add_edges_from(cgc_node_pairs)\n",
        "\n",
        "    def get_graph_and_dicts(self):\n",
        "        return self.graph, self.node_to_cgc_nodes, self.cgc_node_to_component"
      ],
      "metadata": {
        "id": "4lWQ5f6602CP"
      },
      "execution_count": 7,
      "outputs": []
    },
    {
      "cell_type": "code",
      "source": [
        "#torch.manual_seed(12345)\n",
        "dataset = dataset.shuffle()\n",
        "\n",
        "num_data = len(dataset)\n",
        "num_train_data = int(0.9 * num_data)\n",
        "train_dataset = dataset[:num_train_data]\n",
        "test_dataset = dataset[num_train_data:]\n",
        "\n",
        "print(f'Number of training graphs: {len(train_dataset)}')\n",
        "print(f'Number of test graphs: {len(test_dataset)}')"
      ],
      "metadata": {
        "colab": {
          "base_uri": "https://localhost:8080/"
        },
        "id": "cJBklF1qU7_h",
        "outputId": "d25bdf25-9632-46b5-a4ea-7bc01b217421"
      },
      "execution_count": 10,
      "outputs": [
        {
          "output_type": "stream",
          "name": "stdout",
          "text": [
            "Number of training graphs: 3699\n",
            "Number of test graphs: 411\n"
          ]
        }
      ]
    },
    {
      "cell_type": "code",
      "source": [
        "from torch_geometric.loader import DataLoader\n",
        "\n",
        "train_loader = DataLoader(train_dataset, batch_size=64, shuffle=True)\n",
        "test_loader = DataLoader(test_dataset, batch_size=64, shuffle=False)\n",
        "\n",
        "for step, data in enumerate(train_loader):\n",
        "    print(f'Step {step + 1}:')\n",
        "    print('=======')\n",
        "    print(f'Number of graphs in the current batch: {data.num_graphs}')\n",
        "    print(data)\n",
        "    print()"
      ],
      "metadata": {
        "id": "cRSqS878U3x1"
      },
      "execution_count": null,
      "outputs": []
    },
    {
      "cell_type": "code",
      "source": [
        "from torch_geometric.utils.convert import from_networkx\n",
        "train_batches = []\n",
        "\n",
        "for batch_data in train_loader:\n",
        "    subgraphs = extract_subgraphs(batch_data)\n",
        "    components_graphs = []\n",
        "    for G in subgraphs:\n",
        "        components, node_to_components, graph_creator = compute_components(G)\n",
        "        cmp_graph, node_to_cmp_nodes, cmp_node_to_component = graph_creator.get_graph_and_dicts()\n",
        "        components_graphs.append({\"components_graph\": from_networkx(cmp_graph).edge_index, \"cmp_node_to_component\": cmp_node_to_component})\n",
        "    batch_data.components_graphs = components_graphs\n",
        "    train_batches.append(batch_data)"
      ],
      "metadata": {
        "id": "WPvV6Q1tabXu"
      },
      "execution_count": null,
      "outputs": []
    },
    {
      "cell_type": "code",
      "source": [
        "print(train_batches[0].components_graphs)"
      ],
      "metadata": {
        "id": "NW1vRH7UrlCQ"
      },
      "execution_count": null,
      "outputs": []
    },
    {
      "cell_type": "code",
      "source": [
        "#sample_batch = next(iter(train_loader))\n",
        "def extract_subgraphs(batch_data, batch_graph):\n",
        "    num_graphs = len(batch_data.y)\n",
        "    subgraph_nodes = [set() for g in range(num_graphs)]\n",
        "    node_to_graph = batch_data.batch\n",
        "    for node in range(len(node_to_graph)):\n",
        "        subgraph_nodes[node_to_graph[node]].add(node)\n",
        "    subgraphs = [batch_graph.subgraph(c).copy() for c in subgraph_nodes]\n",
        "    return subgraphs\n",
        "\n",
        "#print(sample_batch)\n",
        "#subgraphs = extract_subgraphs(sample_batch)\n",
        "#print(len(subgraphs))\n",
        "#nx.draw(subgraphs[7], with_labels=True)"
      ],
      "metadata": {
        "id": "IBRs6fnKAu1M"
      },
      "execution_count": 13,
      "outputs": []
    },
    {
      "cell_type": "code",
      "source": [
        "from torch_geometric.utils.convert import from_networkx\n",
        "\n",
        "def augment_loader(loader):\n",
        "    component_graphs = []#{}\n",
        "    list_loader = []\n",
        "    for batch_data in loader:\n",
        "        list_loader.append(batch_data)\n",
        "        batch_graph = torch_geometric.utils.to_networkx(batch_data, to_undirected=True)\n",
        "        subgraphs = extract_subgraphs(batch_data, batch_graph)\n",
        "        batch_component_graphs = []\n",
        "        for G in subgraphs:\n",
        "            components, node_to_components, graph_creator = compute_components(G)\n",
        "            cmp_graph, node_to_cmp_nodes, cmp_node_to_component = graph_creator.get_graph_and_dicts()\n",
        "            batch_component_graphs.append({\"components_graph\": from_networkx(cmp_graph), \"node_to_cmp_nodes\": cmp_node_to_component})\n",
        "        #hash = nx.weisfeiler_lehman_graph_hash(batch_graph)\n",
        "        #component_graphs[hash] = batch_component_graphs\n",
        "        component_graphs.append(batch_component_graphs)\n",
        "    #loader.component_graphs = component_graphs\n",
        "    return {\"loader\": list_loader, \"component_graphs\": component_graphs}"
      ],
      "metadata": {
        "id": "uzEJ9ftswXnC"
      },
      "execution_count": 14,
      "outputs": []
    },
    {
      "cell_type": "code",
      "source": [
        "augment_loader(test_loader)\n",
        "component_graph = test_loader.component_graphs[0][-1]\n",
        "test_loader.component_graphs[0]\n",
        "print(component_graph)"
      ],
      "metadata": {
        "id": "hmHnZ7inmg9T"
      },
      "execution_count": null,
      "outputs": []
    },
    {
      "cell_type": "code",
      "source": [
        "for i, G in enumerate(subgraphs):\n",
        "    print(\"doing graph \" + str(i))\n",
        "    components, node_to_components, graph_creator = compute_components(G)\n",
        "    #component_graph = graph_creator.graph\n",
        "    #nx.draw(component_graph, with_labels=True)\n",
        "    #cmp_graph, cmp_node_to_cgc_nodes, cmp_cgc_node_to_component = graph_creator.get_graph_and_dicts()\n",
        "    #print(components)\n",
        "    #plt.show(cmp_graph)\n",
        "    #print(cmp_cgc_node_to_component)"
      ],
      "metadata": {
        "id": "CZ8RuHqVzm-F"
      },
      "execution_count": null,
      "outputs": []
    },
    {
      "cell_type": "code",
      "source": [
        "from torch.nn import Linear\n",
        "import torch.nn.functional as F\n",
        "from torch_geometric.nn import GCNConv\n",
        "from torch_geometric.nn import GraphConv\n",
        "from torch_geometric.nn import global_mean_pool\n",
        "\n",
        "\n",
        "class BasicGNN(torch.nn.Module):\n",
        "    def __init__(self, hidden_channels):\n",
        "        #super(GCN, self).__init__()\n",
        "        super().__init__()\n",
        "        torch.manual_seed(12345)\n",
        "        #self.conv1 = GCNConv(dataset.num_node_features, hidden_channels)\n",
        "        self.conv1 = GraphConv(dataset.num_node_features, hidden_channels)\n",
        "        self.lin1 = Linear(hidden_channels, hidden_channels)\n",
        "        #self.conv2 = GCNConv(hidden_channels, hidden_channels)\n",
        "        self.conv2 = GraphConv(hidden_channels, hidden_channels)\n",
        "        self.lin2 = Linear(hidden_channels, hidden_channels)\n",
        "        self.conv3 = GraphConv(hidden_channels, hidden_channels)\n",
        "        self.lin3 = Linear(hidden_channels, hidden_channels)\n",
        "        #self.conv3 = GCNConv(hidden_channels, hidden_channels)\n",
        "        self.conv4 = GraphConv(hidden_channels, hidden_channels)\n",
        "        self.lin4 = Linear(hidden_channels, dataset.num_classes)\n",
        "\n",
        "    def forward(self, x, edge_index, batch, component_graphs):\n",
        "        # 1. Obtain node embeddings\n",
        "        x = self.conv1(x, edge_index)\n",
        "        x = self.lin1(x)\n",
        "        x = x.relu()\n",
        "        x = self.conv2(x, edge_index)\n",
        "        x = self.lin2(x)\n",
        "        x = x.relu()\n",
        "        x = self.conv3(x, edge_index)\n",
        "        x = self.lin3(x)\n",
        "        x = x.relu()\n",
        "        x = self.conv4(x, edge_index)\n",
        "        x = self.lin4(x)\n",
        "        x = x.relu()\n",
        "\n",
        "        # 2. Readout layer\n",
        "        x = global_mean_pool(x, batch)  # [batch_size, hidden_channels]\n",
        "\n",
        "        # 3. Apply a final classifier\n",
        "        x = F.dropout(x, p=0.5, training=self.training)\n",
        "\n",
        "        return x\n",
        "\n",
        "#model = GCN(hidden_channels=64)\n",
        "#print(model)"
      ],
      "metadata": {
        "id": "QTaXUn2LU4GZ"
      },
      "execution_count": 15,
      "outputs": []
    },
    {
      "cell_type": "code",
      "source": [
        "import torch\n",
        "from torch.nn import Linear\n",
        "import torch.nn.functional as F\n",
        "from torch_geometric.nn import GCNConv\n",
        "from torch_geometric.nn import GraphConv\n",
        "from torch_geometric.nn import global_mean_pool\n",
        "import numpy as np\n",
        "\n",
        "\n",
        "class ExtendedGNN(torch.nn.Module):\n",
        "    def __init__(self, hidden_channels):\n",
        "        #super(GCN, self).__init__()\n",
        "        #torch.manual_seed(12345)\n",
        "        super().__init__()\n",
        "        #self.conv1 = GCNConv(dataset.num_node_features, hidden_channels)\n",
        "        self.conv1 = GraphConv(dataset.num_node_features, hidden_channels)\n",
        "        self.lin1 = Linear(hidden_channels, hidden_channels)\n",
        "        #self.conv2 = GCNConv(hidden_channels, hidden_channels)\n",
        "        self.conv2 = GraphConv(hidden_channels, hidden_channels)\n",
        "        self.lin2 = Linear(hidden_channels, hidden_channels)\n",
        "\n",
        "        self.component_conv1 = GraphConv(hidden_channels, hidden_channels)\n",
        "        self.component_lin1 = Linear(hidden_channels, hidden_channels)\n",
        "        self.component_conv2 = GraphConv(hidden_channels, hidden_channels)\n",
        "        self.component_lin2 = Linear(hidden_channels, dataset.num_classes)\n",
        "\n",
        "        #self.conv3 = GCNConv(hidden_channels, hidden_channels)\n",
        "        #self.conv3 = GraphConv(dataset.num_node_features, hidden_channels)\n",
        "        #self.lin3 = Linear(hidden_channels, dataset.num_classes)\n",
        "\n",
        "    def forward(self, x, edge_index, batch, component_graphs):\n",
        "        # 1. Obtain node embeddings\n",
        "        #print(x.shape)\n",
        "        x = self.conv1(x, edge_index)\n",
        "        x = self.lin1(x)\n",
        "        x = x.relu()\n",
        "        x = self.conv2(x, edge_index)\n",
        "        x = self.lin2(x)\n",
        "        x = x.relu()\n",
        "        #print(x.shape)\n",
        "\n",
        "        #feature_lists = [[] for _ in len(component_graphs)]\n",
        "        #for node, feature in enumerate(x):\n",
        "        #    feature_lists[batch[node]].append(feature)\n",
        "        final_x = torch.zeros(len(component_graphs), dataset.num_classes)\n",
        "        #print(component_graphs)\n",
        "        for i, component_graph in enumerate(component_graphs):\n",
        "            cmp_node_to_component = component_graph[\"node_to_cmp_nodes\"]\n",
        "            cmp_graph = component_graph[\"components_graph\"]\n",
        "            #component_features = np.zeros((len(cmp_node_to_component), 40))\n",
        "            component_features = torch.zeros(len(cmp_node_to_component), 40)\n",
        "            #print(len(cmp_node_to_component))\n",
        "            #print(cmp_node_to_component)\n",
        "            #print(cmp_graph)\n",
        "            for key, value in cmp_node_to_component.items():\n",
        "                for node in value:\n",
        "                    component_features[key] += x[node]\n",
        "            #component_features = [0 for _ in range(len(cmp_node_to_component))]\n",
        "            #for key, value in cmp_node_to_component.items():\n",
        "            #    summands = []\n",
        "            #    for node in value:\n",
        "            #        summands.append(x[node])\n",
        "            #    component_features[key] = sum(summands)\n",
        "            #print(component_features)\n",
        "            #component_features = np.array(component_features)\n",
        "            #print(cmp_graph.edge_index)\n",
        "            #print(component_features)\n",
        "            self.component_conv1(component_features, cmp_graph.edge_index)\n",
        "            component_features = self.component_lin1(component_features)\n",
        "            component_features = self.component_conv2(component_features, cmp_graph.edge_index)\n",
        "            component_features = self.component_lin2(component_features)\n",
        "            component_features = sum(component_features)/len(component_features)#global_mean_pool(component_features, torch.zeros(len(component_features)))\n",
        "            final_x[i] += component_features\n",
        "        x = final_x\n",
        "\n",
        "        # 2. Readout layer\n",
        "        #x = global_mean_pool(x, batch)  # [batch_size, hidden_channels]\n",
        "\n",
        "        # 3. Apply a final classifier\n",
        "        x = F.dropout(x, p=0.5, training=self.training)\n",
        "\n",
        "        return x\n",
        "\n",
        "#model = GCN(hidden_channels=64)\n",
        "#print(model)"
      ],
      "metadata": {
        "id": "D_4QV62yZdRW"
      },
      "execution_count": 16,
      "outputs": []
    },
    {
      "cell_type": "code",
      "source": [
        "class EarlyStopper:\n",
        "    def __init__(self, patience=1, min_delta=0):\n",
        "        self.patience = patience\n",
        "        self.min_delta = min_delta\n",
        "        self.counter = 0\n",
        "        self.max_validation_acc = 0\n",
        "\n",
        "    def early_stop(self, validation_acc):\n",
        "        if validation_acc > self.max_validation_acc:\n",
        "            self.max_validation_acc = validation_acc\n",
        "            self.counter = 0\n",
        "        elif validation_acc < (self.max_validation_acc - self.min_delta):\n",
        "            self.counter += 1\n",
        "            if self.counter >= self.patience:\n",
        "                return True\n",
        "        return False"
      ],
      "metadata": {
        "id": "1pDNVCcoHUi7"
      },
      "execution_count": 17,
      "outputs": []
    },
    {
      "cell_type": "code",
      "source": [
        "from IPython.display import Javascript\n",
        "display(Javascript('''google.colab.output.setIframeHeight(0, true, {maxHeight: 300})'''))\n",
        "\n",
        "batch_data_ex = None\n",
        "\n",
        "def train(model, train_loader, optimizer, criterion):\n",
        "    loader = train_loader[\"loader\"]\n",
        "    model.train()\n",
        "\n",
        "    component_graphs = train_loader[\"component_graphs\"]\n",
        "    for i, data in enumerate(loader):  # Iterate in batches over the training dataset.\n",
        "         #batch_graph = torch_geometric.utils.to_networkx(data, to_undirected=True)\n",
        "         #hash = nx.weisfeiler_lehman_graph_hash(batch_graph)\n",
        "         out = model(data.x, data.edge_index, data.batch, component_graphs[i])#, None)  # Perform a single forward pass.\n",
        "         #batch_data_ex = data\n",
        "         #raise Exception()\n",
        "         loss = criterion(out, data.y)  # Compute the loss.\n",
        "         loss.backward()  # Derive gradients.\n",
        "         optimizer.step()  # Update parameters based on gradients.\n",
        "         optimizer.zero_grad()  # Clear gradients.\n",
        "\n",
        "def test(model, test_loader):\n",
        "     loader = test_loader[\"loader\"]\n",
        "     model.eval()\n",
        "\n",
        "     correct = 0\n",
        "     component_graphs = test_loader[\"component_graphs\"]\n",
        "     for i, data in enumerate(loader):  # Iterate in batches over the training/test dataset.\n",
        "         out = model(data.x, data.edge_index, data.batch, component_graphs[i])#, None)\n",
        "         pred = out.argmax(dim=1)  # Use the class with highest probability.\n",
        "         correct += int((pred == data.y).sum())  # Check against ground-truth labels.\n",
        "     #return correct / len(loader.dataset)  # Derive ratio of correct predictions.\n",
        "     return correct / len(loader)  # Derive ratio of correct predictions.\n",
        "\n",
        "def train_model(model, train_loader, test_loader):\n",
        "    optimizer = torch.optim.Adam(model.parameters(), lr=0.01)\n",
        "    criterion = torch.nn.CrossEntropyLoss()\n",
        "\n",
        "    early_stopper = EarlyStopper(patience=3, min_delta=0.03)\n",
        "    for epoch in range(1, 171):\n",
        "        train(model, train_loader, optimizer, criterion)\n",
        "        train_acc = test(model, train_loader)\n",
        "        test_acc = test(model, test_loader)\n",
        "        print(f'Epoch: {epoch:03d}, Train Acc: {train_acc:.4f}, Test Acc: {test_acc:.4f}')\n",
        "        if early_stopper.early_stop(test_acc):\n",
        "            print(\"Best Test Acc: \" + str(early_stopper.max_validation_acc))\n",
        "            break"
      ],
      "metadata": {
        "colab": {
          "base_uri": "https://localhost:8080/",
          "height": 17
        },
        "id": "IfbYo-IyVqQk",
        "outputId": "178afeb4-5d52-4bf3-bdf0-401f178e55ee"
      },
      "execution_count": 18,
      "outputs": [
        {
          "output_type": "display_data",
          "data": {
            "text/plain": [
              "<IPython.core.display.Javascript object>"
            ],
            "application/javascript": [
              "google.colab.output.setIframeHeight(0, true, {maxHeight: 300})"
            ]
          },
          "metadata": {}
        }
      ]
    },
    {
      "cell_type": "code",
      "source": [
        "from torch_geometric.loader import DataLoader\n",
        "\n",
        "def assess_model(model, dataset):\n",
        "    torch.manual_seed(12345)\n",
        "    dataset = dataset.shuffle()\n",
        "\n",
        "    num_data = len(dataset)\n",
        "    test_train_proportion = 0.1\n",
        "    num_test_data = int(test_train_proportion * num_data)\n",
        "    num_splits = int(1/test_train_proportion)\n",
        "\n",
        "    for i in range(num_splits):\n",
        "        train_dataset = dataset[((i + 1) * num_test_data):]\n",
        "        if i > 0:\n",
        "            train_dataset += dataset[((i - 1) * num_test_data) : (i * num_test_data)]\n",
        "        test_dataset = dataset[(i * num_test_data) : ((i + 1) * num_test_data)]\n",
        "\n",
        "        print(f'Number of training graphs: {len(train_dataset)}')\n",
        "        print(f'Number of test graphs: {len(test_dataset)}')\n",
        "\n",
        "        train_loader = DataLoader(train_dataset, batch_size=64, shuffle=True)\n",
        "        test_loader = DataLoader(test_dataset, batch_size=64, shuffle=False)\n",
        "\n",
        "        train_loader = augment_loader(train_loader)\n",
        "        #print(train_loader.component_graphs)\n",
        "        test_loader = augment_loader(test_loader)\n",
        "        #print(test_loader.component_graphs)\n",
        "\n",
        "        print(\"Testing on \" + str(i + 1) + \"th dataset split.\")\n",
        "        train_model(model, train_loader, test_loader)\n",
        "\n",
        "\n",
        "#model = BasicGNN(hidden_channels=40)\n",
        "model = ExtendedGNN(hidden_channels=40)\n",
        "assess_model(model, dataset)"
      ],
      "metadata": {
        "id": "XN_Anj4YQqP2"
      },
      "execution_count": null,
      "outputs": []
    }
  ]
}